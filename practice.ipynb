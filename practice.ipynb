{
 "cells": [
  {
   "cell_type": "code",
   "execution_count": 135,
   "outputs": [],
   "source": [
    "import pandas as pd\n",
    "import numpy as np\n",
    "import seaborn as sns\n",
    "import re\n",
    "import matplotlib.pyplot as plt\n",
    "import matplotlib.dates as mdate\n",
    "from bs4 import BeautifulSoup\n",
    "from urllib.request import urlopen, Request\n",
    "from urllib.error import HTTPError, URLError\n",
    "from urllib.parse import urlencode\n",
    "\n",
    "plt.rcParams['font.sans-serif'] = 'Simhei'\n",
    "plt.rcParams['axes.unicode_minus'] = False"
   ],
   "metadata": {
    "collapsed": false,
    "pycharm": {
     "name": "#%%\n"
    }
   }
  },
  {
   "cell_type": "code",
   "execution_count": 136,
   "metadata": {
    "collapsed": true,
    "pycharm": {
     "name": "#%%\n"
    }
   },
   "outputs": [],
   "source": [
    "#沪市前面加0，深市前面加1，比如0000001，是上证指数，1000001是中国平安\n",
    "def get_daily(code, start='19900101', end=''):\n",
    "    url_mod = \"http://quotes.money.163.com/service/chddata.html?code=%s&start=%s&end=%s\"\n",
    "    url = url_mod % (code, start, end)\n",
    "    df = pd.read_csv(url, encoding='gb2312')\n",
    "    return df\n",
    "\n",
    "\n",
    "df = get_daily('0000001')  # 获取上证指数"
   ]
  },
  {
   "cell_type": "code",
   "execution_count": 137,
   "outputs": [
    {
     "data": {
      "text/plain": "              日期     股票代码    名称        收盘价        最高价        最低价        开盘价  \\\n7655  1990-12-19  '000001  上证指数    99.9800    99.9800    95.7900    96.0500   \n7654  1990-12-20  '000001  上证指数   104.3900   104.3900    99.9800   104.3000   \n7653  1990-12-21  '000001  上证指数   109.1300   109.1300   103.7300   109.0700   \n7652  1990-12-24  '000001  上证指数   114.5500   114.5500   109.1300   113.5700   \n7651  1990-12-25  '000001  上证指数   120.2500   120.2500   114.5500   120.0900   \n...          ...      ...   ...        ...        ...        ...        ...   \n4     2022-04-14  '000001  上证指数  3225.6412  3240.0014  3200.2346  3203.6337   \n3     2022-04-15  '000001  上证指数  3211.2448  3229.8655  3200.1332  3210.6996   \n2     2022-04-18  '000001  上证指数  3195.5240  3204.0274  3166.9782  3185.9428   \n1     2022-04-19  '000001  上证指数  3194.0287  3207.8276  3174.7138  3192.0924   \n0     2022-04-20  '000001  上证指数  3151.0498  3191.8315  3142.0485  3189.8912   \n\n            前收盘       涨跌额      涨跌幅  换手率        成交量               成交金额  总市值  \\\n7655       None      None     None  NaN       1260           494000.0  NaN   \n7654      99.98      4.41   4.4109  NaN        197            84000.0  NaN   \n7653     104.39      4.74   4.5407  NaN         28            16000.0  NaN   \n7652     109.13      5.42   4.9666  NaN         32            31000.0  NaN   \n7651     114.55       5.7    4.976  NaN         15             6000.0  NaN   \n...         ...       ...      ...  ...        ...                ...  ...   \n4     3186.8244   38.8168    1.218  NaN  371242344  4.01191632081e+11  NaN   \n3     3225.6412  -14.3964  -0.4463  NaN  407842082  4.13498819916e+11  NaN   \n2     3211.2448  -15.7208  -0.4896  NaN  347365123  3.66380807918e+11  NaN   \n1      3195.524   -1.4953  -0.0468  NaN  339944104  3.62769876686e+11  NaN   \n0     3194.0287  -42.9789  -1.3456  NaN  362047037  3.73572708096e+11  NaN   \n\n      流通市值  成交笔数  \n7655   NaN  None  \n7654   NaN  None  \n7653   NaN  None  \n7652   NaN  None  \n7651   NaN  None  \n...    ...   ...  \n4      NaN  None  \n3      NaN  None  \n2      NaN  None  \n1      NaN  None  \n0      NaN  None  \n\n[7656 rows x 16 columns]",
      "text/html": "<div>\n<style scoped>\n    .dataframe tbody tr th:only-of-type {\n        vertical-align: middle;\n    }\n\n    .dataframe tbody tr th {\n        vertical-align: top;\n    }\n\n    .dataframe thead th {\n        text-align: right;\n    }\n</style>\n<table border=\"1\" class=\"dataframe\">\n  <thead>\n    <tr style=\"text-align: right;\">\n      <th></th>\n      <th>日期</th>\n      <th>股票代码</th>\n      <th>名称</th>\n      <th>收盘价</th>\n      <th>最高价</th>\n      <th>最低价</th>\n      <th>开盘价</th>\n      <th>前收盘</th>\n      <th>涨跌额</th>\n      <th>涨跌幅</th>\n      <th>换手率</th>\n      <th>成交量</th>\n      <th>成交金额</th>\n      <th>总市值</th>\n      <th>流通市值</th>\n      <th>成交笔数</th>\n    </tr>\n  </thead>\n  <tbody>\n    <tr>\n      <th>7655</th>\n      <td>1990-12-19</td>\n      <td>'000001</td>\n      <td>上证指数</td>\n      <td>99.9800</td>\n      <td>99.9800</td>\n      <td>95.7900</td>\n      <td>96.0500</td>\n      <td>None</td>\n      <td>None</td>\n      <td>None</td>\n      <td>NaN</td>\n      <td>1260</td>\n      <td>494000.0</td>\n      <td>NaN</td>\n      <td>NaN</td>\n      <td>None</td>\n    </tr>\n    <tr>\n      <th>7654</th>\n      <td>1990-12-20</td>\n      <td>'000001</td>\n      <td>上证指数</td>\n      <td>104.3900</td>\n      <td>104.3900</td>\n      <td>99.9800</td>\n      <td>104.3000</td>\n      <td>99.98</td>\n      <td>4.41</td>\n      <td>4.4109</td>\n      <td>NaN</td>\n      <td>197</td>\n      <td>84000.0</td>\n      <td>NaN</td>\n      <td>NaN</td>\n      <td>None</td>\n    </tr>\n    <tr>\n      <th>7653</th>\n      <td>1990-12-21</td>\n      <td>'000001</td>\n      <td>上证指数</td>\n      <td>109.1300</td>\n      <td>109.1300</td>\n      <td>103.7300</td>\n      <td>109.0700</td>\n      <td>104.39</td>\n      <td>4.74</td>\n      <td>4.5407</td>\n      <td>NaN</td>\n      <td>28</td>\n      <td>16000.0</td>\n      <td>NaN</td>\n      <td>NaN</td>\n      <td>None</td>\n    </tr>\n    <tr>\n      <th>7652</th>\n      <td>1990-12-24</td>\n      <td>'000001</td>\n      <td>上证指数</td>\n      <td>114.5500</td>\n      <td>114.5500</td>\n      <td>109.1300</td>\n      <td>113.5700</td>\n      <td>109.13</td>\n      <td>5.42</td>\n      <td>4.9666</td>\n      <td>NaN</td>\n      <td>32</td>\n      <td>31000.0</td>\n      <td>NaN</td>\n      <td>NaN</td>\n      <td>None</td>\n    </tr>\n    <tr>\n      <th>7651</th>\n      <td>1990-12-25</td>\n      <td>'000001</td>\n      <td>上证指数</td>\n      <td>120.2500</td>\n      <td>120.2500</td>\n      <td>114.5500</td>\n      <td>120.0900</td>\n      <td>114.55</td>\n      <td>5.7</td>\n      <td>4.976</td>\n      <td>NaN</td>\n      <td>15</td>\n      <td>6000.0</td>\n      <td>NaN</td>\n      <td>NaN</td>\n      <td>None</td>\n    </tr>\n    <tr>\n      <th>...</th>\n      <td>...</td>\n      <td>...</td>\n      <td>...</td>\n      <td>...</td>\n      <td>...</td>\n      <td>...</td>\n      <td>...</td>\n      <td>...</td>\n      <td>...</td>\n      <td>...</td>\n      <td>...</td>\n      <td>...</td>\n      <td>...</td>\n      <td>...</td>\n      <td>...</td>\n      <td>...</td>\n    </tr>\n    <tr>\n      <th>4</th>\n      <td>2022-04-14</td>\n      <td>'000001</td>\n      <td>上证指数</td>\n      <td>3225.6412</td>\n      <td>3240.0014</td>\n      <td>3200.2346</td>\n      <td>3203.6337</td>\n      <td>3186.8244</td>\n      <td>38.8168</td>\n      <td>1.218</td>\n      <td>NaN</td>\n      <td>371242344</td>\n      <td>4.01191632081e+11</td>\n      <td>NaN</td>\n      <td>NaN</td>\n      <td>None</td>\n    </tr>\n    <tr>\n      <th>3</th>\n      <td>2022-04-15</td>\n      <td>'000001</td>\n      <td>上证指数</td>\n      <td>3211.2448</td>\n      <td>3229.8655</td>\n      <td>3200.1332</td>\n      <td>3210.6996</td>\n      <td>3225.6412</td>\n      <td>-14.3964</td>\n      <td>-0.4463</td>\n      <td>NaN</td>\n      <td>407842082</td>\n      <td>4.13498819916e+11</td>\n      <td>NaN</td>\n      <td>NaN</td>\n      <td>None</td>\n    </tr>\n    <tr>\n      <th>2</th>\n      <td>2022-04-18</td>\n      <td>'000001</td>\n      <td>上证指数</td>\n      <td>3195.5240</td>\n      <td>3204.0274</td>\n      <td>3166.9782</td>\n      <td>3185.9428</td>\n      <td>3211.2448</td>\n      <td>-15.7208</td>\n      <td>-0.4896</td>\n      <td>NaN</td>\n      <td>347365123</td>\n      <td>3.66380807918e+11</td>\n      <td>NaN</td>\n      <td>NaN</td>\n      <td>None</td>\n    </tr>\n    <tr>\n      <th>1</th>\n      <td>2022-04-19</td>\n      <td>'000001</td>\n      <td>上证指数</td>\n      <td>3194.0287</td>\n      <td>3207.8276</td>\n      <td>3174.7138</td>\n      <td>3192.0924</td>\n      <td>3195.524</td>\n      <td>-1.4953</td>\n      <td>-0.0468</td>\n      <td>NaN</td>\n      <td>339944104</td>\n      <td>3.62769876686e+11</td>\n      <td>NaN</td>\n      <td>NaN</td>\n      <td>None</td>\n    </tr>\n    <tr>\n      <th>0</th>\n      <td>2022-04-20</td>\n      <td>'000001</td>\n      <td>上证指数</td>\n      <td>3151.0498</td>\n      <td>3191.8315</td>\n      <td>3142.0485</td>\n      <td>3189.8912</td>\n      <td>3194.0287</td>\n      <td>-42.9789</td>\n      <td>-1.3456</td>\n      <td>NaN</td>\n      <td>362047037</td>\n      <td>3.73572708096e+11</td>\n      <td>NaN</td>\n      <td>NaN</td>\n      <td>None</td>\n    </tr>\n  </tbody>\n</table>\n<p>7656 rows × 16 columns</p>\n</div>"
     },
     "execution_count": 137,
     "metadata": {},
     "output_type": "execute_result"
    }
   ],
   "source": [
    "df.sort_index(ascending=False)"
   ],
   "metadata": {
    "collapsed": false,
    "pycharm": {
     "name": "#%%\n"
    }
   }
  },
  {
   "cell_type": "code",
   "execution_count": 145,
   "outputs": [],
   "source": [
    "data = df.sort_index(ascending=False).loc[:, ['日期', '收盘价']]"
   ],
   "metadata": {
    "collapsed": false,
    "pycharm": {
     "name": "#%%\n"
    }
   }
  },
  {
   "cell_type": "code",
   "execution_count": 146,
   "outputs": [
    {
     "data": {
      "text/plain": "                  收盘价\n日期                   \n1990-12-19    99.9800\n1990-12-20   104.3900\n1990-12-21   109.1300\n1990-12-24   114.5500\n1990-12-25   120.2500\n...               ...\n2022-04-14  3225.6412\n2022-04-15  3211.2448\n2022-04-18  3195.5240\n2022-04-19  3194.0287\n2022-04-20  3151.0498\n\n[7656 rows x 1 columns]",
      "text/html": "<div>\n<style scoped>\n    .dataframe tbody tr th:only-of-type {\n        vertical-align: middle;\n    }\n\n    .dataframe tbody tr th {\n        vertical-align: top;\n    }\n\n    .dataframe thead th {\n        text-align: right;\n    }\n</style>\n<table border=\"1\" class=\"dataframe\">\n  <thead>\n    <tr style=\"text-align: right;\">\n      <th></th>\n      <th>收盘价</th>\n    </tr>\n    <tr>\n      <th>日期</th>\n      <th></th>\n    </tr>\n  </thead>\n  <tbody>\n    <tr>\n      <th>1990-12-19</th>\n      <td>99.9800</td>\n    </tr>\n    <tr>\n      <th>1990-12-20</th>\n      <td>104.3900</td>\n    </tr>\n    <tr>\n      <th>1990-12-21</th>\n      <td>109.1300</td>\n    </tr>\n    <tr>\n      <th>1990-12-24</th>\n      <td>114.5500</td>\n    </tr>\n    <tr>\n      <th>1990-12-25</th>\n      <td>120.2500</td>\n    </tr>\n    <tr>\n      <th>...</th>\n      <td>...</td>\n    </tr>\n    <tr>\n      <th>2022-04-14</th>\n      <td>3225.6412</td>\n    </tr>\n    <tr>\n      <th>2022-04-15</th>\n      <td>3211.2448</td>\n    </tr>\n    <tr>\n      <th>2022-04-18</th>\n      <td>3195.5240</td>\n    </tr>\n    <tr>\n      <th>2022-04-19</th>\n      <td>3194.0287</td>\n    </tr>\n    <tr>\n      <th>2022-04-20</th>\n      <td>3151.0498</td>\n    </tr>\n  </tbody>\n</table>\n<p>7656 rows × 1 columns</p>\n</div>"
     },
     "execution_count": 146,
     "metadata": {},
     "output_type": "execute_result"
    }
   ],
   "source": [
    "data.set_index('日期', inplace=True)\n",
    "data"
   ],
   "metadata": {
    "collapsed": false,
    "pycharm": {
     "name": "#%%\n"
    }
   }
  },
  {
   "cell_type": "code",
   "execution_count": 147,
   "outputs": [
    {
     "ename": "TypeError",
     "evalue": "Index(...) must be called with a collection of some kind, '股票' was passed",
     "output_type": "error",
     "traceback": [
      "\u001B[1;31m---------------------------------------------------------------------------\u001B[0m",
      "\u001B[1;31mTypeError\u001B[0m                                 Traceback (most recent call last)",
      "\u001B[1;32m~\\AppData\\Local\\Temp/ipykernel_10848/2398191402.py\u001B[0m in \u001B[0;36m<module>\u001B[1;34m\u001B[0m\n\u001B[1;32m----> 1\u001B[1;33m \u001B[0mdata\u001B[0m\u001B[1;33m.\u001B[0m\u001B[0mrename\u001B[0m\u001B[1;33m(\u001B[0m\u001B[1;34m\"股票\"\u001B[0m\u001B[1;33m)\u001B[0m\u001B[1;33m\u001B[0m\u001B[1;33m\u001B[0m\u001B[0m\n\u001B[0m\u001B[0;32m      2\u001B[0m \u001B[0mdata\u001B[0m\u001B[1;33m\u001B[0m\u001B[1;33m\u001B[0m\u001B[0m\n",
      "\u001B[1;32mD:\\ProgramData\\Anaconda3\\envs\\python39\\lib\\site-packages\\pandas\\util\\_decorators.py\u001B[0m in \u001B[0;36mwrapper\u001B[1;34m(*args, **kwargs)\u001B[0m\n\u001B[0;32m    322\u001B[0m         \u001B[1;33m@\u001B[0m\u001B[0mwraps\u001B[0m\u001B[1;33m(\u001B[0m\u001B[0mfunc\u001B[0m\u001B[1;33m)\u001B[0m\u001B[1;33m\u001B[0m\u001B[1;33m\u001B[0m\u001B[0m\n\u001B[0;32m    323\u001B[0m         \u001B[1;32mdef\u001B[0m \u001B[0mwrapper\u001B[0m\u001B[1;33m(\u001B[0m\u001B[1;33m*\u001B[0m\u001B[0margs\u001B[0m\u001B[1;33m,\u001B[0m \u001B[1;33m**\u001B[0m\u001B[0mkwargs\u001B[0m\u001B[1;33m)\u001B[0m \u001B[1;33m->\u001B[0m \u001B[0mCallable\u001B[0m\u001B[1;33m[\u001B[0m\u001B[1;33m...\u001B[0m\u001B[1;33m,\u001B[0m \u001B[0mAny\u001B[0m\u001B[1;33m]\u001B[0m\u001B[1;33m:\u001B[0m\u001B[1;33m\u001B[0m\u001B[1;33m\u001B[0m\u001B[0m\n\u001B[1;32m--> 324\u001B[1;33m             \u001B[1;32mreturn\u001B[0m \u001B[0mfunc\u001B[0m\u001B[1;33m(\u001B[0m\u001B[1;33m*\u001B[0m\u001B[0margs\u001B[0m\u001B[1;33m,\u001B[0m \u001B[1;33m**\u001B[0m\u001B[0mkwargs\u001B[0m\u001B[1;33m)\u001B[0m\u001B[1;33m\u001B[0m\u001B[1;33m\u001B[0m\u001B[0m\n\u001B[0m\u001B[0;32m    325\u001B[0m \u001B[1;33m\u001B[0m\u001B[0m\n\u001B[0;32m    326\u001B[0m         \u001B[0mkind\u001B[0m \u001B[1;33m=\u001B[0m \u001B[0minspect\u001B[0m\u001B[1;33m.\u001B[0m\u001B[0mParameter\u001B[0m\u001B[1;33m.\u001B[0m\u001B[0mPOSITIONAL_OR_KEYWORD\u001B[0m\u001B[1;33m\u001B[0m\u001B[1;33m\u001B[0m\u001B[0m\n",
      "\u001B[1;32mD:\\ProgramData\\Anaconda3\\envs\\python39\\lib\\site-packages\\pandas\\core\\frame.py\u001B[0m in \u001B[0;36mrename\u001B[1;34m(self, mapper, index, columns, axis, copy, inplace, level, errors)\u001B[0m\n\u001B[0;32m   5037\u001B[0m         \u001B[1;36m4\u001B[0m  \u001B[1;36m3\u001B[0m  \u001B[1;36m6\u001B[0m\u001B[1;33m\u001B[0m\u001B[1;33m\u001B[0m\u001B[0m\n\u001B[0;32m   5038\u001B[0m         \"\"\"\n\u001B[1;32m-> 5039\u001B[1;33m         return super().rename(\n\u001B[0m\u001B[0;32m   5040\u001B[0m             \u001B[0mmapper\u001B[0m\u001B[1;33m=\u001B[0m\u001B[0mmapper\u001B[0m\u001B[1;33m,\u001B[0m\u001B[1;33m\u001B[0m\u001B[1;33m\u001B[0m\u001B[0m\n\u001B[0;32m   5041\u001B[0m             \u001B[0mindex\u001B[0m\u001B[1;33m=\u001B[0m\u001B[0mindex\u001B[0m\u001B[1;33m,\u001B[0m\u001B[1;33m\u001B[0m\u001B[1;33m\u001B[0m\u001B[0m\n",
      "\u001B[1;32mD:\\ProgramData\\Anaconda3\\envs\\python39\\lib\\site-packages\\pandas\\core\\generic.py\u001B[0m in \u001B[0;36mrename\u001B[1;34m(self, mapper, index, columns, axis, copy, inplace, level, errors)\u001B[0m\n\u001B[0;32m   1145\u001B[0m             \u001B[1;31m# GH 13473\u001B[0m\u001B[1;33m\u001B[0m\u001B[1;33m\u001B[0m\u001B[0m\n\u001B[0;32m   1146\u001B[0m             \u001B[1;32mif\u001B[0m \u001B[1;32mnot\u001B[0m \u001B[0mcallable\u001B[0m\u001B[1;33m(\u001B[0m\u001B[0mreplacements\u001B[0m\u001B[1;33m)\u001B[0m\u001B[1;33m:\u001B[0m\u001B[1;33m\u001B[0m\u001B[1;33m\u001B[0m\u001B[0m\n\u001B[1;32m-> 1147\u001B[1;33m                 \u001B[0mindexer\u001B[0m \u001B[1;33m=\u001B[0m \u001B[0max\u001B[0m\u001B[1;33m.\u001B[0m\u001B[0mget_indexer_for\u001B[0m\u001B[1;33m(\u001B[0m\u001B[0mreplacements\u001B[0m\u001B[1;33m)\u001B[0m\u001B[1;33m\u001B[0m\u001B[1;33m\u001B[0m\u001B[0m\n\u001B[0m\u001B[0;32m   1148\u001B[0m                 \u001B[1;32mif\u001B[0m \u001B[0merrors\u001B[0m \u001B[1;33m==\u001B[0m \u001B[1;34m\"raise\"\u001B[0m \u001B[1;32mand\u001B[0m \u001B[0mlen\u001B[0m\u001B[1;33m(\u001B[0m\u001B[0mindexer\u001B[0m\u001B[1;33m[\u001B[0m\u001B[0mindexer\u001B[0m \u001B[1;33m==\u001B[0m \u001B[1;33m-\u001B[0m\u001B[1;36m1\u001B[0m\u001B[1;33m]\u001B[0m\u001B[1;33m)\u001B[0m\u001B[1;33m:\u001B[0m\u001B[1;33m\u001B[0m\u001B[1;33m\u001B[0m\u001B[0m\n\u001B[0;32m   1149\u001B[0m                     missing_labels = [\n",
      "\u001B[1;32mD:\\ProgramData\\Anaconda3\\envs\\python39\\lib\\site-packages\\pandas\\core\\indexes\\base.py\u001B[0m in \u001B[0;36mget_indexer_for\u001B[1;34m(self, target, **kwargs)\u001B[0m\n\u001B[0;32m   5273\u001B[0m         \"\"\"\n\u001B[0;32m   5274\u001B[0m         \u001B[1;32mif\u001B[0m \u001B[0mself\u001B[0m\u001B[1;33m.\u001B[0m\u001B[0m_index_as_unique\u001B[0m\u001B[1;33m:\u001B[0m\u001B[1;33m\u001B[0m\u001B[1;33m\u001B[0m\u001B[0m\n\u001B[1;32m-> 5275\u001B[1;33m             \u001B[1;32mreturn\u001B[0m \u001B[0mself\u001B[0m\u001B[1;33m.\u001B[0m\u001B[0mget_indexer\u001B[0m\u001B[1;33m(\u001B[0m\u001B[0mtarget\u001B[0m\u001B[1;33m,\u001B[0m \u001B[1;33m**\u001B[0m\u001B[0mkwargs\u001B[0m\u001B[1;33m)\u001B[0m\u001B[1;33m\u001B[0m\u001B[1;33m\u001B[0m\u001B[0m\n\u001B[0m\u001B[0;32m   5276\u001B[0m         \u001B[0mindexer\u001B[0m\u001B[1;33m,\u001B[0m \u001B[0m_\u001B[0m \u001B[1;33m=\u001B[0m \u001B[0mself\u001B[0m\u001B[1;33m.\u001B[0m\u001B[0mget_indexer_non_unique\u001B[0m\u001B[1;33m(\u001B[0m\u001B[0mtarget\u001B[0m\u001B[1;33m)\u001B[0m\u001B[1;33m\u001B[0m\u001B[1;33m\u001B[0m\u001B[0m\n\u001B[0;32m   5277\u001B[0m         \u001B[1;32mreturn\u001B[0m \u001B[0mindexer\u001B[0m\u001B[1;33m\u001B[0m\u001B[1;33m\u001B[0m\u001B[0m\n",
      "\u001B[1;32mD:\\ProgramData\\Anaconda3\\envs\\python39\\lib\\site-packages\\pandas\\core\\indexes\\base.py\u001B[0m in \u001B[0;36mget_indexer\u001B[1;34m(self, target, method, limit, tolerance)\u001B[0m\n\u001B[0;32m   3435\u001B[0m         \u001B[1;31m# returned ndarray is np.intp\u001B[0m\u001B[1;33m\u001B[0m\u001B[1;33m\u001B[0m\u001B[0m\n\u001B[0;32m   3436\u001B[0m         \u001B[0mmethod\u001B[0m \u001B[1;33m=\u001B[0m \u001B[0mmissing\u001B[0m\u001B[1;33m.\u001B[0m\u001B[0mclean_reindex_fill_method\u001B[0m\u001B[1;33m(\u001B[0m\u001B[0mmethod\u001B[0m\u001B[1;33m)\u001B[0m\u001B[1;33m\u001B[0m\u001B[1;33m\u001B[0m\u001B[0m\n\u001B[1;32m-> 3437\u001B[1;33m         \u001B[0mtarget\u001B[0m \u001B[1;33m=\u001B[0m \u001B[0mself\u001B[0m\u001B[1;33m.\u001B[0m\u001B[0m_maybe_cast_listlike_indexer\u001B[0m\u001B[1;33m(\u001B[0m\u001B[0mtarget\u001B[0m\u001B[1;33m)\u001B[0m\u001B[1;33m\u001B[0m\u001B[1;33m\u001B[0m\u001B[0m\n\u001B[0m\u001B[0;32m   3438\u001B[0m \u001B[1;33m\u001B[0m\u001B[0m\n\u001B[0;32m   3439\u001B[0m         \u001B[0mself\u001B[0m\u001B[1;33m.\u001B[0m\u001B[0m_check_indexing_method\u001B[0m\u001B[1;33m(\u001B[0m\u001B[0mmethod\u001B[0m\u001B[1;33m,\u001B[0m \u001B[0mlimit\u001B[0m\u001B[1;33m,\u001B[0m \u001B[0mtolerance\u001B[0m\u001B[1;33m)\u001B[0m\u001B[1;33m\u001B[0m\u001B[1;33m\u001B[0m\u001B[0m\n",
      "\u001B[1;32mD:\\ProgramData\\Anaconda3\\envs\\python39\\lib\\site-packages\\pandas\\core\\indexes\\base.py\u001B[0m in \u001B[0;36m_maybe_cast_listlike_indexer\u001B[1;34m(self, target)\u001B[0m\n\u001B[0;32m   5706\u001B[0m         \u001B[0mAnalogue\u001B[0m \u001B[0mto\u001B[0m \u001B[0mmaybe_cast_indexer\u001B[0m \u001B[1;32mfor\u001B[0m \u001B[0mget_indexer\u001B[0m \u001B[0minstead\u001B[0m \u001B[0mof\u001B[0m \u001B[0mget_loc\u001B[0m\u001B[1;33m.\u001B[0m\u001B[1;33m\u001B[0m\u001B[1;33m\u001B[0m\u001B[0m\n\u001B[0;32m   5707\u001B[0m         \"\"\"\n\u001B[1;32m-> 5708\u001B[1;33m         \u001B[1;32mreturn\u001B[0m \u001B[0mensure_index\u001B[0m\u001B[1;33m(\u001B[0m\u001B[0mtarget\u001B[0m\u001B[1;33m)\u001B[0m\u001B[1;33m\u001B[0m\u001B[1;33m\u001B[0m\u001B[0m\n\u001B[0m\u001B[0;32m   5709\u001B[0m \u001B[1;33m\u001B[0m\u001B[0m\n\u001B[0;32m   5710\u001B[0m     \u001B[1;33m@\u001B[0m\u001B[0mfinal\u001B[0m\u001B[1;33m\u001B[0m\u001B[1;33m\u001B[0m\u001B[0m\n",
      "\u001B[1;32mD:\\ProgramData\\Anaconda3\\envs\\python39\\lib\\site-packages\\pandas\\core\\indexes\\base.py\u001B[0m in \u001B[0;36mensure_index\u001B[1;34m(index_like, copy)\u001B[0m\n\u001B[0;32m   6334\u001B[0m     \u001B[1;32melse\u001B[0m\u001B[1;33m:\u001B[0m\u001B[1;33m\u001B[0m\u001B[1;33m\u001B[0m\u001B[0m\n\u001B[0;32m   6335\u001B[0m \u001B[1;33m\u001B[0m\u001B[0m\n\u001B[1;32m-> 6336\u001B[1;33m         \u001B[1;32mreturn\u001B[0m \u001B[0mIndex\u001B[0m\u001B[1;33m(\u001B[0m\u001B[0mindex_like\u001B[0m\u001B[1;33m,\u001B[0m \u001B[0mcopy\u001B[0m\u001B[1;33m=\u001B[0m\u001B[0mcopy\u001B[0m\u001B[1;33m)\u001B[0m\u001B[1;33m\u001B[0m\u001B[1;33m\u001B[0m\u001B[0m\n\u001B[0m\u001B[0;32m   6337\u001B[0m \u001B[1;33m\u001B[0m\u001B[0m\n\u001B[0;32m   6338\u001B[0m \u001B[1;33m\u001B[0m\u001B[0m\n",
      "\u001B[1;32mD:\\ProgramData\\Anaconda3\\envs\\python39\\lib\\site-packages\\pandas\\core\\indexes\\base.py\u001B[0m in \u001B[0;36m__new__\u001B[1;34m(cls, data, dtype, copy, name, tupleize_cols, **kwargs)\u001B[0m\n\u001B[0;32m    472\u001B[0m \u001B[1;33m\u001B[0m\u001B[0m\n\u001B[0;32m    473\u001B[0m         \u001B[1;32melif\u001B[0m \u001B[0mis_scalar\u001B[0m\u001B[1;33m(\u001B[0m\u001B[0mdata\u001B[0m\u001B[1;33m)\u001B[0m\u001B[1;33m:\u001B[0m\u001B[1;33m\u001B[0m\u001B[1;33m\u001B[0m\u001B[0m\n\u001B[1;32m--> 474\u001B[1;33m             \u001B[1;32mraise\u001B[0m \u001B[0mcls\u001B[0m\u001B[1;33m.\u001B[0m\u001B[0m_scalar_data_error\u001B[0m\u001B[1;33m(\u001B[0m\u001B[0mdata\u001B[0m\u001B[1;33m)\u001B[0m\u001B[1;33m\u001B[0m\u001B[1;33m\u001B[0m\u001B[0m\n\u001B[0m\u001B[0;32m    475\u001B[0m         \u001B[1;32melif\u001B[0m \u001B[0mhasattr\u001B[0m\u001B[1;33m(\u001B[0m\u001B[0mdata\u001B[0m\u001B[1;33m,\u001B[0m \u001B[1;34m\"__array__\"\u001B[0m\u001B[1;33m)\u001B[0m\u001B[1;33m:\u001B[0m\u001B[1;33m\u001B[0m\u001B[1;33m\u001B[0m\u001B[0m\n\u001B[0;32m    476\u001B[0m             \u001B[1;32mreturn\u001B[0m \u001B[0mIndex\u001B[0m\u001B[1;33m(\u001B[0m\u001B[0mnp\u001B[0m\u001B[1;33m.\u001B[0m\u001B[0masarray\u001B[0m\u001B[1;33m(\u001B[0m\u001B[0mdata\u001B[0m\u001B[1;33m)\u001B[0m\u001B[1;33m,\u001B[0m \u001B[0mdtype\u001B[0m\u001B[1;33m=\u001B[0m\u001B[0mdtype\u001B[0m\u001B[1;33m,\u001B[0m \u001B[0mcopy\u001B[0m\u001B[1;33m=\u001B[0m\u001B[0mcopy\u001B[0m\u001B[1;33m,\u001B[0m \u001B[0mname\u001B[0m\u001B[1;33m=\u001B[0m\u001B[0mname\u001B[0m\u001B[1;33m,\u001B[0m \u001B[1;33m**\u001B[0m\u001B[0mkwargs\u001B[0m\u001B[1;33m)\u001B[0m\u001B[1;33m\u001B[0m\u001B[1;33m\u001B[0m\u001B[0m\n",
      "\u001B[1;31mTypeError\u001B[0m: Index(...) must be called with a collection of some kind, '股票' was passed"
     ]
    }
   ],
   "source": [],
   "metadata": {
    "collapsed": false,
    "pycharm": {
     "name": "#%%\n"
    }
   }
  },
  {
   "cell_type": "code",
   "execution_count": 140,
   "outputs": [
    {
     "data": {
      "text/plain": "<Figure size 432x288 with 1 Axes>",
      "image/png": "[encoded data removed]"
     },
     "metadata": {},
     "output_type": "display_data"
    }
   ],
   "source": [
    "x = pd.to_datetime(data.index)\n",
    "ax = plt.gca()\n",
    "plt.style.use('ggplot')\n",
    "ax.xaxis.set_major_locator(mdate.YearLocator())\n",
    "ax.xaxis.set_major_formatter(mdate.DateFormatter('%Y'))  # 横坐标标签显示的日期格式\n",
    "plt.xticks(pd.date_range(x[0], x[-1], freq='5y'))  # 横坐标日期范围及间隔\n",
    "plt.yticks(range(100, 6000, 1000))  # 设置纵坐标，使用range()函数设置起始、结束范围及间隔步长\n",
    "plt.xlabel(\"时间\")\n",
    "plt.ylabel(\"当日收盘价\")\n",
    "plt.title(\"实际数据\")\n",
    "plt.plot(x, data['收盘价'], alpha=0.6)\n",
    "plt.show()"
   ],
   "metadata": {
    "collapsed": false,
    "pycharm": {
     "name": "#%%\n"
    }
   }
  },
  {
   "cell_type": "code",
   "execution_count": 151,
   "outputs": [
    {
     "name": "stdout",
     "output_type": "stream",
     "text": [
      "No data found!\n"
     ]
    }
   ],
   "source": [
    "root = \"https://app.finance.ifeng.com/list/stock.php\"\n",
    "# GET请求数据\n",
    "headers = {\n",
    "    \"User-Agent\": \"Mozilla/5.0 (Windows NT 10.0; Win64; x64) AppleWebKit/537.36 (KHTML, like Gecko) \"\n",
    "                  \"Chrome/99.0.4844.74 Safari/537.36\"\n",
    "}\n",
    "data = {'t': 'hs', 'f': 'chg_pct', 'o': 'desc', 'p': 100}\n",
    "params = urlencode(data)\n",
    "url = root + '?' + params\n",
    "req = Request(url=url, headers=headers, method='GET')\n",
    "try:\n",
    "    html = urlopen(req)\n",
    "except HTTPError as e:\n",
    "    print(e)\n",
    "except URLError as e:\n",
    "    print(e)\n",
    "else:\n",
    "    bs = BeautifulSoup(html, 'html.parser')\n",
    "    lists = bs.find('div', {'class': 'tab01'})\n",
    "    data = lists.find_all('a', {'target': '_blank'})\n",
    "    if not data:\n",
    "        print(\"No data found!\")\n",
    "    else:\n",
    "        print(len(data))\n",
    "        for item in data:\n",
    "            print(item.get_text().replace(\" \", \"\"))"
   ],
   "metadata": {
    "collapsed": false,
    "pycharm": {
     "name": "#%%\n"
    }
   }
  },
  {
   "cell_type": "code",
   "execution_count": 142,
   "outputs": [
    {
     "name": "stdout",
     "output_type": "stream",
     "text": [
      "hs\n",
      "ha\n",
      "sa\n",
      "kcb\n",
      "hb\n",
      "sb\n",
      "cyb\n",
      "zs\n",
      "jj\n",
      "etf\n",
      "zq\n"
     ]
    }
   ],
   "source": [
    "all_a = bs.find_all('a')\n",
    "for a in all_a:\n",
    "    a = str(a)\n",
    "    m = re.match(r'^<a href=\"\\?t=([a-zA-Z]+)\">.*</a>$', a)\n",
    "    if m is not None:\n",
    "        print(m.group(1))"
   ],
   "metadata": {
    "collapsed": false,
    "pycharm": {
     "name": "#%%\n"
    }
   }
  },
  {
   "cell_type": "code",
   "execution_count": 143,
   "outputs": [],
   "source": [
    "import sys"
   ],
   "metadata": {
    "collapsed": false,
    "pycharm": {
     "name": "#%%\n"
    }
   }
  },
  {
   "cell_type": "code",
   "execution_count": 144,
   "outputs": [
    {
     "data": {
      "text/plain": "'D:\\\\Program Files\\\\PyCharm 2021.2.3\\\\plugins\\\\python\\\\helpers-pro\\\\jupyter_debug'"
     },
     "execution_count": 144,
     "metadata": {},
     "output_type": "execute_result"
    }
   ],
   "source": [
    "sys.path[0]"
   ],
   "metadata": {
    "collapsed": false,
    "pycharm": {
     "name": "#%%\n"
    }
   }
  },
  {
   "cell_type": "code",
   "execution_count": 148,
   "outputs": [
    {
     "ename": "TypeError",
     "evalue": "not a valid non-string sequence or mapping object",
     "output_type": "error",
     "traceback": [
      "\u001B[1;31m---------------------------------------------------------------------------\u001B[0m",
      "\u001B[1;31mTypeError\u001B[0m                                 Traceback (most recent call last)",
      "\u001B[1;32mD:\\ProgramData\\Anaconda3\\envs\\python39\\lib\\urllib\\parse.py\u001B[0m in \u001B[0;36murlencode\u001B[1;34m(query, doseq, safe, encoding, errors, quote_via)\u001B[0m\n\u001B[0;32m    936\u001B[0m             \u001B[1;31m# non-empty strings will fail this\u001B[0m\u001B[1;33m\u001B[0m\u001B[1;33m\u001B[0m\u001B[0m\n\u001B[1;32m--> 937\u001B[1;33m             \u001B[1;32mif\u001B[0m \u001B[0mlen\u001B[0m\u001B[1;33m(\u001B[0m\u001B[0mquery\u001B[0m\u001B[1;33m)\u001B[0m \u001B[1;32mand\u001B[0m \u001B[1;32mnot\u001B[0m \u001B[0misinstance\u001B[0m\u001B[1;33m(\u001B[0m\u001B[0mquery\u001B[0m\u001B[1;33m[\u001B[0m\u001B[1;36m0\u001B[0m\u001B[1;33m]\u001B[0m\u001B[1;33m,\u001B[0m \u001B[0mtuple\u001B[0m\u001B[1;33m)\u001B[0m\u001B[1;33m:\u001B[0m\u001B[1;33m\u001B[0m\u001B[1;33m\u001B[0m\u001B[0m\n\u001B[0m\u001B[0;32m    938\u001B[0m                 \u001B[1;32mraise\u001B[0m \u001B[0mTypeError\u001B[0m\u001B[1;33m\u001B[0m\u001B[1;33m\u001B[0m\u001B[0m\n",
      "\u001B[1;31mTypeError\u001B[0m: object of type 'NoneType' has no len()",
      "\nDuring handling of the above exception, another exception occurred:\n",
      "\u001B[1;31mTypeError\u001B[0m                                 Traceback (most recent call last)",
      "\u001B[1;32m~\\AppData\\Local\\Temp/ipykernel_10848/3210806321.py\u001B[0m in \u001B[0;36m<module>\u001B[1;34m\u001B[0m\n\u001B[1;32m----> 1\u001B[1;33m \u001B[0murlencode\u001B[0m\u001B[1;33m(\u001B[0m\u001B[1;32mNone\u001B[0m\u001B[1;33m)\u001B[0m\u001B[1;33m\u001B[0m\u001B[1;33m\u001B[0m\u001B[0m\n\u001B[0m",
      "\u001B[1;32mD:\\ProgramData\\Anaconda3\\envs\\python39\\lib\\urllib\\parse.py\u001B[0m in \u001B[0;36murlencode\u001B[1;34m(query, doseq, safe, encoding, errors, quote_via)\u001B[0m\n\u001B[0;32m    943\u001B[0m         \u001B[1;32mexcept\u001B[0m \u001B[0mTypeError\u001B[0m\u001B[1;33m:\u001B[0m\u001B[1;33m\u001B[0m\u001B[1;33m\u001B[0m\u001B[0m\n\u001B[0;32m    944\u001B[0m             \u001B[0mty\u001B[0m\u001B[1;33m,\u001B[0m \u001B[0mva\u001B[0m\u001B[1;33m,\u001B[0m \u001B[0mtb\u001B[0m \u001B[1;33m=\u001B[0m \u001B[0msys\u001B[0m\u001B[1;33m.\u001B[0m\u001B[0mexc_info\u001B[0m\u001B[1;33m(\u001B[0m\u001B[1;33m)\u001B[0m\u001B[1;33m\u001B[0m\u001B[1;33m\u001B[0m\u001B[0m\n\u001B[1;32m--> 945\u001B[1;33m             raise TypeError(\"not a valid non-string sequence \"\n\u001B[0m\u001B[0;32m    946\u001B[0m                             \"or mapping object\").with_traceback(tb)\n\u001B[0;32m    947\u001B[0m \u001B[1;33m\u001B[0m\u001B[0m\n",
      "\u001B[1;32mD:\\ProgramData\\Anaconda3\\envs\\python39\\lib\\urllib\\parse.py\u001B[0m in \u001B[0;36murlencode\u001B[1;34m(query, doseq, safe, encoding, errors, quote_via)\u001B[0m\n\u001B[0;32m    935\u001B[0m             \u001B[1;31m# non-sequence items should not work with len()\u001B[0m\u001B[1;33m\u001B[0m\u001B[1;33m\u001B[0m\u001B[0m\n\u001B[0;32m    936\u001B[0m             \u001B[1;31m# non-empty strings will fail this\u001B[0m\u001B[1;33m\u001B[0m\u001B[1;33m\u001B[0m\u001B[0m\n\u001B[1;32m--> 937\u001B[1;33m             \u001B[1;32mif\u001B[0m \u001B[0mlen\u001B[0m\u001B[1;33m(\u001B[0m\u001B[0mquery\u001B[0m\u001B[1;33m)\u001B[0m \u001B[1;32mand\u001B[0m \u001B[1;32mnot\u001B[0m \u001B[0misinstance\u001B[0m\u001B[1;33m(\u001B[0m\u001B[0mquery\u001B[0m\u001B[1;33m[\u001B[0m\u001B[1;36m0\u001B[0m\u001B[1;33m]\u001B[0m\u001B[1;33m,\u001B[0m \u001B[0mtuple\u001B[0m\u001B[1;33m)\u001B[0m\u001B[1;33m:\u001B[0m\u001B[1;33m\u001B[0m\u001B[1;33m\u001B[0m\u001B[0m\n\u001B[0m\u001B[0;32m    938\u001B[0m                 \u001B[1;32mraise\u001B[0m \u001B[0mTypeError\u001B[0m\u001B[1;33m\u001B[0m\u001B[1;33m\u001B[0m\u001B[0m\n\u001B[0;32m    939\u001B[0m             \u001B[1;31m# Zero-length sequences of all types will get here and succeed,\u001B[0m\u001B[1;33m\u001B[0m\u001B[1;33m\u001B[0m\u001B[0m\n",
      "\u001B[1;31mTypeError\u001B[0m: not a valid non-string sequence or mapping object"
     ]
    }
   ],
   "source": [
    "urlencode(None)"
   ],
   "metadata": {
    "collapsed": false,
    "pycharm": {
     "name": "#%%\n"
    }
   }
  },
  {
   "cell_type": "code",
   "execution_count": 149,
   "outputs": [
    {
     "data": {
      "text/plain": "array([ 1,  3,  5,  7,  9, 11, 13, 15, 17, 19, 21, 23, 25, 27, 29, 31, 33,\n       35, 37, 39, 41, 43, 45, 47, 49, 51, 53, 55, 57, 59, 61, 63, 65, 67,\n       69, 71, 73, 75, 77, 79, 81, 83, 85, 87, 89, 91, 93, 95, 97, 99])"
     },
     "execution_count": 149,
     "metadata": {},
     "output_type": "execute_result"
    }
   ],
   "source": [
    "np.arange(1,100,2)"
   ],
   "metadata": {
    "collapsed": false,
    "pycharm": {
     "name": "#%%\n"
    }
   }
  }
 ],
 "metadata": {
  "kernelspec": {
   "display_name": "Python 3",
   "language": "python",
   "name": "python3"
  },
  "language_info": {
   "codemirror_mode": {
    "name": "ipython",
    "version": 2
   },
   "file_extension": ".py",
   "mimetype": "text/x-python",
   "name": "python",
   "nbconvert_exporter": "python",
   "pygments_lexer": "ipython2",
   "version": "2.7.6"
  }
 },
 "nbformat": 4,
 "nbformat_minor": 0
}